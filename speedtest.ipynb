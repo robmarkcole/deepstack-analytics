{
 "cells": [
  {
   "cell_type": "markdown",
   "metadata": {},
   "source": [
    "## speedtest\n",
    "In this notebook we time how long it takes deepstack to process a set of images. The purpose is to allow comparison of speed on different hosts. We also count the total number of predictions as a quality check\n",
    "\n",
    "```\n",
    "docker run -e VISION-DETECTION=True -e API-KEY=\"\" -v localstorage:/datastore -p 5000:5000 --name deepstack deepquestai/deepstack:cpu-x4-beta\n",
    "```"
   ]
  },
  {
   "cell_type": "code",
   "execution_count": 1,
   "metadata": {},
   "outputs": [],
   "source": [
    "# deepstack credentials\n",
    "IP_ADDRESS = 'localhost' # 'localhost' # '192.168.1.84' jetson nano\n",
    "PORT = 80 # 5000\n",
    "API_KEY =  \"\" # if you have not set an api_key, just pass an empty string"
   ]
  },
  {
   "cell_type": "code",
   "execution_count": 2,
   "metadata": {},
   "outputs": [],
   "source": [
    "import deepstack.core as ds\n",
    "from pathlib import Path\n",
    "import time\n",
    "import sys\n",
    "import os"
   ]
  },
  {
   "cell_type": "code",
   "execution_count": 6,
   "metadata": {},
   "outputs": [],
   "source": [
    "images = list(Path(\"images/\").rglob(\"*.jpg\"))"
   ]
  },
  {
   "cell_type": "markdown",
   "metadata": {},
   "source": [
    "## Object detection"
   ]
  },
  {
   "cell_type": "code",
   "execution_count": 7,
   "metadata": {},
   "outputs": [],
   "source": [
    "dsobject = ds.DeepstackObject(IP_ADDRESS, PORT, API_KEY)"
   ]
  },
  {
   "cell_type": "code",
   "execution_count": 10,
   "metadata": {},
   "outputs": [
    {
     "name": "stdout",
     "output_type": "stream",
     "text": [
      "Processed image number 0 : images/scenes/dog.jpg, 1 predictions\n",
      "Processed image number 1 : images/scenes/street.jpg, 7 predictions\n",
      "Processed image number 2 : images/scenes/farm.jpg, 10 predictions\n",
      "Processed image number 3 : images/scenes/pool.jpg, 5 predictions\n",
      "Processed image number 4 : images/scenes/supermarket.jpg, 0 predictions\n",
      "Processed image number 5 : images/scenes/crossing.jpg, 14 predictions\n",
      "Processed image number 6 : images/scenes/porsche.jpg, 1 predictions\n",
      "Processed image number 7 : images/scenes/people_car.jpg, 4 predictions\n",
      "Processed image number 8 : images/scenes/test-image3.jpg, 3 predictions\n",
      "Processed image number 9 : images/scenes/.ipynb_checkpoints/supermarket-checkpoint.jpg, 0 predictions\n",
      "Processed image number 10 : images/faces/me.jpg, 1 predictions\n",
      "Processed image number 11 : images/faces/idris.jpg, 1 predictions\n",
      "Processed image number 12 : images/faces/idris_2.jpg, 2 predictions\n",
      "Processed image number 13 : images/faces/family.jpg, 2 predictions\n",
      "Processed image number 14 : images/faces/face.jpg, 4 predictions\n",
      "Processed image number 15 : images/faces/couple.jpg, 3 predictions\n",
      "Processed image number 16 : images/faces/.ipynb_checkpoints/me-checkpoint.jpg, 1 predictions\n",
      "Processing completes in 8.624161958694458, total of 59 predictions\n",
      "CPU times: user 75.8 ms, sys: 25.9 ms, total: 102 ms\n",
      "Wall time: 8.62 s\n"
     ]
    }
   ],
   "source": [
    "%%time\n",
    "total_predictions = 0 # keep predictions\n",
    "start_time = time.time()\n",
    "\n",
    "for i, img in enumerate(images):\n",
    "\n",
    "    try:\n",
    "        with open(img, 'rb') as image_bytes:\n",
    "            predictions = dsobject.detect(image_bytes)\n",
    "            print(f\"Processed image number {i} : {str(img)}, {len(predictions)} predictions\")\n",
    "            total_predictions = total_predictions + len(predictions)\n",
    "    except Exception as exc:\n",
    "        print(exc)\n",
    "        print(img)\n",
    "\n",
    "end_time = time.time()\n",
    "duration = end_time - start_time\n",
    "print(f\"Processing completes in {duration}, total of {total_predictions} predictions\")"
   ]
  },
  {
   "cell_type": "markdown",
   "metadata": {},
   "source": [
    "## League table\n",
    "| Platform | Speed (sec) | Predictions |\n",
    "| --- | --- | --- |\n",
    "| Jetson xavier with jetpack-x3-beta | 6.1 | 48 |\n",
    "| Jetson nano with jetpack-x3-beta | 6.3 | 48 |\n",
    "| Jetson nano with jetpack-x1-beta | 7.5 | 48 |\n",
    "| Mac Pro with deepstack:cpu-x5-beta | 7.2 | 80 |\n",
    "| Mac Pro with deepstack:cpu-x4-beta | 6.6 | 80 |\n",
    "| Mac Pro with deepstack:cpu-x3-beta | 106 | 95 |\n",
    "| Mac Pro with tflite-server (fastapi) | 2.2 | 178 |\n",
    "| Mac Pro with tflite-server (flask) | 2.1 | 176 |\n",
    "| RPi4 with tflite-server (fastapi) | 7.6 | 176 |\n",
    "| RPi4 with tflite-server (flask) | 8.9 | 159 |\n",
    "\n",
    "Why fewer predictions with flask?"
   ]
  },
  {
   "cell_type": "markdown",
   "metadata": {},
   "source": [
    "## Face detection\n",
    "On Jetson: \n",
    "\n",
    "`sudo docker run --runtime nvidia -d -e VISION-FACE=True -e VISION-DETECTION=True -p 80:5000 deepquestai/deepstack:jetpack-x3-beta`"
   ]
  },
  {
   "cell_type": "code",
   "execution_count": 11,
   "metadata": {},
   "outputs": [],
   "source": [
    "dsface = ds.DeepstackFace(IP_ADDRESS, PORT, API_KEY)"
   ]
  },
  {
   "cell_type": "code",
   "execution_count": 34,
   "metadata": {},
   "outputs": [
    {
     "name": "stdout",
     "output_type": "stream",
     "text": [
      "----------------------\n",
      "images/scenes/dog.jpg : 0.01 MB\n",
      "Processed image number 0 : images/scenes/dog.jpg, 1 predictions\n",
      "----------------------\n",
      "images/scenes/street.jpg : 0.62 MB\n",
      "Connection error: ('Connection aborted.', BrokenPipeError(32, 'Broken pipe'))\n",
      "----------------------\n",
      "images/scenes/farm.jpg : 0.3 MB\n",
      "Processed image number 2 : images/scenes/farm.jpg, 0 predictions\n",
      "----------------------\n",
      "images/scenes/pool.jpg : 0.28 MB\n",
      "Processed image number 3 : images/scenes/pool.jpg, 0 predictions\n",
      "----------------------\n",
      "images/scenes/supermarket.jpg : 1.8 MB\n",
      "Connection error: ('Connection aborted.', BrokenPipeError(32, 'Broken pipe'))\n",
      "----------------------\n",
      "images/scenes/crossing.jpg : 0.11 MB\n",
      "Processed image number 5 : images/scenes/crossing.jpg, 0 predictions\n",
      "----------------------\n",
      "images/scenes/porsche.jpg : 0.12 MB\n",
      "Processed image number 6 : images/scenes/porsche.jpg, 0 predictions\n",
      "----------------------\n",
      "images/scenes/people_car.jpg : 0.11 MB\n",
      "Processed image number 7 : images/scenes/people_car.jpg, 0 predictions\n",
      "----------------------\n",
      "images/scenes/test-image3.jpg : 0.21 MB\n",
      "Processed image number 8 : images/scenes/test-image3.jpg, 0 predictions\n",
      "----------------------\n",
      "images/faces/me.jpg : 0.81 MB\n",
      "Connection error: ('Connection aborted.', BrokenPipeError(32, 'Broken pipe'))\n",
      "----------------------\n",
      "images/faces/idris.jpg : 0.21 MB\n",
      "Processed image number 10 : images/faces/idris.jpg, 1 predictions\n",
      "----------------------\n",
      "images/faces/idris_2.jpg : 0.06 MB\n",
      "Processed image number 11 : images/faces/idris_2.jpg, 1 predictions\n",
      "----------------------\n",
      "images/faces/family.jpg : 0.13 MB\n",
      "Processed image number 12 : images/faces/family.jpg, 4 predictions\n",
      "----------------------\n",
      "images/faces/face.jpg : 0.15 MB\n",
      "Processed image number 13 : images/faces/face.jpg, 4 predictions\n",
      "----------------------\n",
      "images/faces/couple.jpg : 1.35 MB\n",
      "Connection error: ('Connection aborted.', BrokenPipeError(32, 'Broken pipe'))\n",
      "Processing completes in 7.185115337371826, total of 11 faces\n",
      "CPU times: user 112 ms, sys: 67 ms, total: 179 ms\n",
      "Wall time: 7.19 s\n"
     ]
    }
   ],
   "source": [
    "%%time\n",
    "total_faces = 0 # keep predictions\n",
    "start_time = time.time()\n",
    "\n",
    "for i, img in enumerate(images):\n",
    "    print('----------------------')\n",
    "    try:\n",
    "        img_size = os.path.getsize(img)\n",
    "        img_size = round(img_size/1e6, 2) \n",
    "        print(f\"{img} : {img_size} MB\")\n",
    "        with open(img, 'rb') as image_bytes:\n",
    "            dsface.detect(image_bytes)\n",
    "            predictions = dsface.predictions\n",
    "            print(f\"Processed image number {i} : {str(img)}, {len(predictions)} predictions\")\n",
    "            total_faces = total_faces + len(predictions)\n",
    "    except Exception as exc:\n",
    "        print(exc)\n",
    "        \n",
    "\n",
    "end_time = time.time()\n",
    "duration = end_time - start_time\n",
    "print(f\"Processing completes in {duration}, total of {total_faces} faces\")"
   ]
  },
  {
   "cell_type": "markdown",
   "metadata": {},
   "source": [
    "## Fire custom model"
   ]
  },
  {
   "cell_type": "code",
   "execution_count": 19,
   "metadata": {},
   "outputs": [],
   "source": [
    "dsfire = ds.DeepstackObject(IP_ADDRESS, PORT, API_KEY, min_confidence=0.01, custom_model='fire2')"
   ]
  },
  {
   "cell_type": "code",
   "execution_count": 20,
   "metadata": {},
   "outputs": [],
   "source": [
    "fire_image_dir = '/Users/robin/Data/fire-dataset/validation/images'\n",
    "fire_images = list(Path(fire_image_dir).rglob(\"*.jpg\"))"
   ]
  },
  {
   "cell_type": "code",
   "execution_count": 21,
   "metadata": {},
   "outputs": [
    {
     "data": {
      "text/plain": [
       "PosixPath('/Users/robin/Data/fire-dataset/validation/images/img (29).jpg')"
      ]
     },
     "execution_count": 21,
     "metadata": {},
     "output_type": "execute_result"
    }
   ],
   "source": [
    "fire_images[0]"
   ]
  },
  {
   "cell_type": "code",
   "execution_count": 22,
   "metadata": {},
   "outputs": [
    {
     "name": "stdout",
     "output_type": "stream",
     "text": [
      "Processed image number 0 : /Users/robin/Data/fire-dataset/validation/images/img (29).jpg, 0 predictions\n",
      "Processed image number 1 : /Users/robin/Data/fire-dataset/validation/images/pic (29).jpg, 0 predictions\n",
      "Processed image number 2 : /Users/robin/Data/fire-dataset/validation/images/img (13).jpg, 0 predictions\n",
      "Processed image number 3 : /Users/robin/Data/fire-dataset/validation/images/pic (13).jpg, 0 predictions\n",
      "Processed image number 4 : /Users/robin/Data/fire-dataset/validation/images/small (4).jpg, 0 predictions\n",
      "Processed image number 5 : /Users/robin/Data/fire-dataset/validation/images/small (21).jpg, 4 predictions\n",
      "Processed image number 6 : /Users/robin/Data/fire-dataset/validation/images/pic (6).jpg, 1 predictions\n",
      "Processed image number 7 : /Users/robin/Data/fire-dataset/validation/images/small (17).jpg, 1 predictions\n",
      "Processed image number 8 : /Users/robin/Data/fire-dataset/validation/images/pic (25).jpg, 0 predictions\n",
      "Processed image number 9 : /Users/robin/Data/fire-dataset/validation/images/img (25).jpg, 0 predictions\n",
      "Processed image number 10 : /Users/robin/Data/fire-dataset/validation/images/small (8).jpg, 1 predictions\n",
      "Processed image number 11 : /Users/robin/Data/fire-dataset/validation/images/img (1).jpg, 1 predictions\n",
      "Processed image number 12 : /Users/robin/Data/fire-dataset/validation/images/small (9).jpg, 2 predictions\n",
      "Processed image number 13 : /Users/robin/Data/fire-dataset/validation/images/img (24).jpg, 0 predictions\n",
      "Processed image number 14 : /Users/robin/Data/fire-dataset/validation/images/pic (24).jpg, 0 predictions\n",
      "Processed image number 15 : /Users/robin/Data/fire-dataset/validation/images/small (16).jpg, 0 predictions\n",
      "Processed image number 16 : /Users/robin/Data/fire-dataset/validation/images/pic (7).jpg, 0 predictions\n",
      "Processed image number 17 : /Users/robin/Data/fire-dataset/validation/images/small (20).jpg, 4 predictions\n",
      "Processed image number 18 : /Users/robin/Data/fire-dataset/validation/images/pic (12).jpg, 0 predictions\n",
      "Processed image number 19 : /Users/robin/Data/fire-dataset/validation/images/small (5).jpg, 0 predictions\n",
      "Processed image number 20 : /Users/robin/Data/fire-dataset/validation/images/img (12).jpg, 0 predictions\n",
      "Processed image number 21 : /Users/robin/Data/fire-dataset/validation/images/pic (28).jpg, 0 predictions\n",
      "Processed image number 22 : /Users/robin/Data/fire-dataset/validation/images/img (28).jpg, 0 predictions\n",
      "Processed image number 23 : /Users/robin/Data/fire-dataset/validation/images/small (11).jpg, 1 predictions\n",
      "Processed image number 24 : /Users/robin/Data/fire-dataset/validation/images/pic (23).jpg, 0 predictions\n",
      "Processed image number 25 : /Users/robin/Data/fire-dataset/validation/images/img (23).jpg, 1 predictions\n",
      "Processed image number 26 : /Users/robin/Data/fire-dataset/validation/images/pic (19).jpg, 1 predictions\n",
      "Processed image number 27 : /Users/robin/Data/fire-dataset/validation/images/img (6).jpg, 0 predictions\n",
      "Processed image number 28 : /Users/robin/Data/fire-dataset/validation/images/img (19).jpg, 1 predictions\n",
      "Processed image number 29 : /Users/robin/Data/fire-dataset/validation/images/img (15).jpg, 0 predictions\n",
      "Processed image number 30 : /Users/robin/Data/fire-dataset/validation/images/pic (15).jpg, 0 predictions\n",
      "Processed image number 31 : /Users/robin/Data/fire-dataset/validation/images/small (2).jpg, 0 predictions\n",
      "Processed image number 32 : /Users/robin/Data/fire-dataset/validation/images/small (27).jpg, 0 predictions\n",
      "Processed image number 33 : /Users/robin/Data/fire-dataset/validation/images/pic (1).jpg, 0 predictions\n",
      "Processed image number 34 : /Users/robin/Data/fire-dataset/validation/images/small (30).jpg, 3 predictions\n",
      "Processed image number 35 : /Users/robin/Data/fire-dataset/validation/images/small (26).jpg, 0 predictions\n",
      "Processed image number 36 : /Users/robin/Data/fire-dataset/validation/images/pic (14).jpg, 0 predictions\n",
      "Processed image number 37 : /Users/robin/Data/fire-dataset/validation/images/small (3).jpg, 1 predictions\n",
      "Processed image number 38 : /Users/robin/Data/fire-dataset/validation/images/img (14).jpg, 0 predictions\n",
      "Processed image number 39 : /Users/robin/Data/fire-dataset/validation/images/img (18).jpg, 0 predictions\n",
      "Processed image number 40 : /Users/robin/Data/fire-dataset/validation/images/pic (18).jpg, 0 predictions\n",
      "Processed image number 41 : /Users/robin/Data/fire-dataset/validation/images/img (7).jpg, 0 predictions\n",
      "Processed image number 42 : /Users/robin/Data/fire-dataset/validation/images/img (22).jpg, 1 predictions\n",
      "Processed image number 43 : /Users/robin/Data/fire-dataset/validation/images/pic (22).jpg, 0 predictions\n",
      "Processed image number 44 : /Users/robin/Data/fire-dataset/validation/images/small (10).jpg, 1 predictions\n",
      "Processed image number 45 : /Users/robin/Data/fire-dataset/validation/images/small (29).jpg, 1 predictions\n",
      "Processed image number 46 : /Users/robin/Data/fire-dataset/validation/images/img (4).jpg, 2 predictions\n",
      "Processed image number 47 : /Users/robin/Data/fire-dataset/validation/images/img (21).jpg, 0 predictions\n",
      "Processed image number 48 : /Users/robin/Data/fire-dataset/validation/images/pic (21).jpg, 0 predictions\n",
      "Processed image number 49 : /Users/robin/Data/fire-dataset/validation/images/small (13).jpg, 0 predictions\n",
      "Processed image number 50 : /Users/robin/Data/fire-dataset/validation/images/pic (2).jpg, 0 predictions\n",
      "Processed image number 51 : /Users/robin/Data/fire-dataset/validation/images/small (25).jpg, 1 predictions\n",
      "Processed image number 52 : /Users/robin/Data/fire-dataset/validation/images/img (8).jpg, 0 predictions\n",
      "Processed image number 53 : /Users/robin/Data/fire-dataset/validation/images/pic (17).jpg, 0 predictions\n",
      "Processed image number 54 : /Users/robin/Data/fire-dataset/validation/images/img (17).jpg, 0 predictions\n",
      "Processed image number 55 : /Users/robin/Data/fire-dataset/validation/images/img (16).jpg, 0 predictions\n",
      "Processed image number 56 : /Users/robin/Data/fire-dataset/validation/images/small (1).jpg, 4 predictions\n",
      "Processed image number 57 : /Users/robin/Data/fire-dataset/validation/images/img (9).jpg, 0 predictions\n",
      "Processed image number 58 : /Users/robin/Data/fire-dataset/validation/images/pic (16).jpg, 0 predictions\n",
      "Processed image number 59 : /Users/robin/Data/fire-dataset/validation/images/small (24).jpg, 0 predictions\n",
      "Processed image number 60 : /Users/robin/Data/fire-dataset/validation/images/pic (3).jpg, 0 predictions\n",
      "Processed image number 61 : /Users/robin/Data/fire-dataset/validation/images/small (12).jpg, 0 predictions\n",
      "Processed image number 62 : /Users/robin/Data/fire-dataset/validation/images/pic (20).jpg, 0 predictions\n",
      "Processed image number 63 : /Users/robin/Data/fire-dataset/validation/images/img (20).jpg, 0 predictions\n",
      "Processed image number 64 : /Users/robin/Data/fire-dataset/validation/images/img (5).jpg, 0 predictions\n",
      "Processed image number 65 : /Users/robin/Data/fire-dataset/validation/images/small (28).jpg, 0 predictions\n",
      "Processed image number 66 : /Users/robin/Data/fire-dataset/validation/images/pic (4).jpg, 0 predictions\n",
      "Processed image number 67 : /Users/robin/Data/fire-dataset/validation/images/small (23).jpg, 1 predictions\n",
      "Processed image number 68 : /Users/robin/Data/fire-dataset/validation/images/small (6).jpg, 0 predictions\n",
      "Processed image number 69 : /Users/robin/Data/fire-dataset/validation/images/pic (11).jpg, 0 predictions\n",
      "Processed image number 70 : /Users/robin/Data/fire-dataset/validation/images/img (11).jpg, 0 predictions\n",
      "Processed image number 71 : /Users/robin/Data/fire-dataset/validation/images/small (19).jpg, 1 predictions\n",
      "Processed image number 72 : /Users/robin/Data/fire-dataset/validation/images/pic (8).jpg, 0 predictions\n",
      "Processed image number 73 : /Users/robin/Data/fire-dataset/validation/images/img (2).jpg, 0 predictions\n",
      "Processed image number 74 : /Users/robin/Data/fire-dataset/validation/images/img (27).jpg, 0 predictions\n",
      "Processed image number 75 : /Users/robin/Data/fire-dataset/validation/images/pic (27).jpg, 0 predictions\n",
      "Processed image number 76 : /Users/robin/Data/fire-dataset/validation/images/small (15).jpg, 1 predictions\n",
      "Processed image number 77 : /Users/robin/Data/fire-dataset/validation/images/small (14).jpg, 4 predictions\n",
      "Processed image number 78 : /Users/robin/Data/fire-dataset/validation/images/pic (26).jpg, 0 predictions\n",
      "Processed image number 79 : /Users/robin/Data/fire-dataset/validation/images/img (26).jpg, 0 predictions\n",
      "Processed image number 80 : /Users/robin/Data/fire-dataset/validation/images/pic (30).jpg, 0 predictions\n",
      "Processed image number 81 : /Users/robin/Data/fire-dataset/validation/images/img (30).jpg, 1 predictions\n",
      "Processed image number 82 : /Users/robin/Data/fire-dataset/validation/images/img (3).jpg, 0 predictions\n",
      "Processed image number 83 : /Users/robin/Data/fire-dataset/validation/images/pic (9).jpg, 0 predictions\n",
      "Processed image number 84 : /Users/robin/Data/fire-dataset/validation/images/small (18).jpg, 3 predictions\n",
      "Processed image number 85 : /Users/robin/Data/fire-dataset/validation/images/img (10).jpg, 0 predictions\n",
      "Processed image number 86 : /Users/robin/Data/fire-dataset/validation/images/small (7).jpg, 2 predictions\n",
      "Processed image number 87 : /Users/robin/Data/fire-dataset/validation/images/pic (10).jpg, 0 predictions\n",
      "Processed image number 88 : /Users/robin/Data/fire-dataset/validation/images/small (22).jpg, 2 predictions\n",
      "Processed image number 89 : /Users/robin/Data/fire-dataset/validation/images/pic (5).jpg, 0 predictions\n",
      "Processing completes in 18.23239493370056, total of 47 predictions\n",
      "CPU times: user 384 ms, sys: 100 ms, total: 484 ms\n",
      "Wall time: 18.2 s\n"
     ]
    }
   ],
   "source": [
    "%%time\n",
    "total_predictions = 0 # keep predictions\n",
    "start_time = time.time()\n",
    "\n",
    "for i, img in enumerate(fire_images):\n",
    "\n",
    "    try:\n",
    "        with open(img, 'rb') as image_bytes:\n",
    "            predictions = dsfire.detect(image_bytes)\n",
    "            print(f\"Processed image number {i} : {str(img)}, {len(predictions)} predictions\")\n",
    "            total_predictions = total_predictions + len(predictions)\n",
    "    except Exception as exc:\n",
    "        print(exc)\n",
    "        print(img)\n",
    "\n",
    "end_time = time.time()\n",
    "duration = end_time - start_time\n",
    "print(f\"Processing completes in {duration}, total of {total_predictions} predictions\")"
   ]
  },
  {
   "cell_type": "code",
   "execution_count": null,
   "metadata": {},
   "outputs": [],
   "source": []
  }
 ],
 "metadata": {
  "kernelspec": {
   "display_name": "Python 3",
   "language": "python",
   "name": "python3"
  },
  "language_info": {
   "codemirror_mode": {
    "name": "ipython",
    "version": 3
   },
   "file_extension": ".py",
   "mimetype": "text/x-python",
   "name": "python",
   "nbconvert_exporter": "python",
   "pygments_lexer": "ipython3",
   "version": "3.7.0"
  }
 },
 "nbformat": 4,
 "nbformat_minor": 4
}
