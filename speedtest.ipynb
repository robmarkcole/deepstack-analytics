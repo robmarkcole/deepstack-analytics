{
 "cells": [
  {
   "cell_type": "markdown",
   "metadata": {},
   "source": [
    "## speedtest\n",
    "In this notebook we time how long it takes deepstack to process a set of images. The purpose is to allow comparison of speed on different hosts. We also count the total number of predictions as a quality check\n",
    "\n",
    "```\n",
    "docker run -e VISION-DETECTION=True -e API-KEY=\"\" -v localstorage:/datastore -p 5000:5000 --name deepstack deepquestai/deepstack:cpu-x4-beta\n",
    "```"
   ]
  },
  {
   "cell_type": "code",
   "execution_count": 6,
   "metadata": {},
   "outputs": [],
   "source": [
    "# deepstack credentials\n",
    "IP_ADDRESS = '192.168.1.84' # 'localhost' # '192.168.1.252'\n",
    "PORT = 80 # 5000\n",
    "API_KEY =  \"\" # if you have not set an api_key, just pass an empty string"
   ]
  },
  {
   "cell_type": "code",
   "execution_count": 2,
   "metadata": {},
   "outputs": [],
   "source": [
    "import deepstack.core as ds\n",
    "from pathlib import Path\n",
    "import time"
   ]
  },
  {
   "cell_type": "code",
   "execution_count": 3,
   "metadata": {},
   "outputs": [],
   "source": [
    "images = list(Path(\"images/\").rglob(\"*.jpg\"))"
   ]
  },
  {
   "cell_type": "code",
   "execution_count": 7,
   "metadata": {},
   "outputs": [],
   "source": [
    "dsobject = ds.DeepstackObject(IP_ADDRESS, PORT, API_KEY)"
   ]
  },
  {
   "cell_type": "code",
   "execution_count": 8,
   "metadata": {},
   "outputs": [
    {
     "name": "stdout",
     "output_type": "stream",
     "text": [
      "Processed image number 0 : images/scenes/dog.jpg, 1 predictions\n",
      "Processed image number 1 : images/scenes/street.jpg, 3 predictions\n",
      "Processed image number 2 : images/scenes/farm.jpg, 9 predictions\n",
      "Processed image number 3 : images/scenes/pool.jpg, 1 predictions\n",
      "Processed image number 4 : images/scenes/supermarket.jpg, 0 predictions\n",
      "Processed image number 5 : images/scenes/crossing.jpg, 11 predictions\n",
      "Processed image number 6 : images/scenes/porsche.jpg, 1 predictions\n",
      "Processed image number 7 : images/scenes/people_car.jpg, 5 predictions\n",
      "Processed image number 8 : images/scenes/test-image3.jpg, 3 predictions\n",
      "Processed image number 9 : images/faces/me.jpg, 1 predictions\n",
      "Processed image number 10 : images/faces/idris.jpg, 1 predictions\n",
      "Processed image number 11 : images/faces/idris_2.jpg, 2 predictions\n",
      "Processed image number 12 : images/faces/family.jpg, 3 predictions\n",
      "Processed image number 13 : images/faces/face.jpg, 4 predictions\n",
      "Processed image number 14 : images/faces/couple.jpg, 3 predictions\n",
      "Processing completes in 7.473277807235718, total of 48 predictions\n",
      "CPU times: user 74.9 ms, sys: 29.6 ms, total: 104 ms\n",
      "Wall time: 7.47 s\n"
     ]
    }
   ],
   "source": [
    "%%time\n",
    "total_predictions = 0 # keep predictions\n",
    "start_time = time.time()\n",
    "\n",
    "for i, img in enumerate(images):\n",
    "\n",
    "    try:\n",
    "        with open(img, 'rb') as image_bytes:\n",
    "            dsobject.detect(image_bytes)\n",
    "            predictions = dsobject.predictions\n",
    "            print(f\"Processed image number {i} : {str(img)}, {len(predictions)} predictions\")\n",
    "            total_predictions = total_predictions + len(predictions)\n",
    "    except Exception as exc:\n",
    "        print(exc)\n",
    "        print(img)\n",
    "\n",
    "end_time = time.time()\n",
    "duration = end_time - start_time\n",
    "print(f\"Processing completes in {duration}, total of {total_predictions} predictions\")"
   ]
  },
  {
   "cell_type": "markdown",
   "metadata": {},
   "source": [
    "## League table\n",
    "RPi4 readings after the pi has recently started up and is not hot\n",
    "\n",
    "| Platform | Speed (sec) | Predictions |\n",
    "| --- | --- | --- |\n",
    "| Jetson with jetpack-x1-beta | 7.5 | 48 |\n",
    "| Mac Pro with deepstack:cpu-x5-beta | 7.2 | 80 |\n",
    "| Mac Pro with deepstack:cpu-x4-beta | 6.6 | 80 |\n",
    "| Mac Pro with deepstack:cpu-x3-beta | 106 | 95 |\n",
    "| Mac Pro with tflite-server (fastapi) | 2.2 | 178 |\n",
    "| Mac Pro with tflite-server (flask) | 2.1 | 176 |\n",
    "| RPi4 with tflite-server (fastapi) | 7.6 | 176 |\n",
    "| RPi4 with tflite-server (flask) | 8.9 | 159 |\n",
    "\n",
    "Why fewer predictions with flask?"
   ]
  },
  {
   "cell_type": "code",
   "execution_count": null,
   "metadata": {},
   "outputs": [],
   "source": []
  }
 ],
 "metadata": {
  "kernelspec": {
   "display_name": "Python 3",
   "language": "python",
   "name": "python3"
  },
  "language_info": {
   "codemirror_mode": {
    "name": "ipython",
    "version": 3
   },
   "file_extension": ".py",
   "mimetype": "text/x-python",
   "name": "python",
   "nbconvert_exporter": "python",
   "pygments_lexer": "ipython3",
   "version": "3.7.0"
  }
 },
 "nbformat": 4,
 "nbformat_minor": 4
}
