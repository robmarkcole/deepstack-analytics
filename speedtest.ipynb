{
 "cells": [
  {
   "cell_type": "markdown",
   "metadata": {},
   "source": [
    "## speedtest\n",
    "In this notebook we time how long it takes deepstack to process a set of images. The purpose is to allow comparison of speed on different hosts. We also count the total number of predictions as a quality check\n",
    "\n",
    "```\n",
    "docker run -e VISION-DETECTION=True -e API-KEY=\"\" -v localstorage:/datastore -p 5000:5000 --name deepstack deepquestai/deepstack:cpu-x4-beta\n",
    "```"
   ]
  },
  {
   "cell_type": "code",
   "execution_count": 1,
   "metadata": {},
   "outputs": [],
   "source": [
    "# deepstack credentials\n",
    "IP_ADDRESS = '192.168.1.84' # 'localhost' # '192.168.1.252'\n",
    "PORT = 80 # 5000\n",
    "API_KEY =  \"\" # if you have not set an api_key, just pass an empty string"
   ]
  },
  {
   "cell_type": "code",
   "execution_count": 24,
   "metadata": {},
   "outputs": [],
   "source": [
    "import deepstack.core as ds\n",
    "from pathlib import Path\n",
    "import time\n",
    "import sys\n",
    "import os"
   ]
  },
  {
   "cell_type": "code",
   "execution_count": 3,
   "metadata": {},
   "outputs": [],
   "source": [
    "images = list(Path(\"images/\").rglob(\"*.jpg\"))"
   ]
  },
  {
   "cell_type": "markdown",
   "metadata": {},
   "source": [
    "## Object detection"
   ]
  },
  {
   "cell_type": "code",
   "execution_count": 4,
   "metadata": {},
   "outputs": [],
   "source": [
    "dsobject = ds.DeepstackObject(IP_ADDRESS, PORT, API_KEY)"
   ]
  },
  {
   "cell_type": "code",
   "execution_count": 16,
   "metadata": {},
   "outputs": [
    {
     "name": "stdout",
     "output_type": "stream",
     "text": [
      "Processed image number 0 : images/scenes/dog.jpg, 1 predictions\n",
      "Processed image number 1 : images/scenes/street.jpg, 3 predictions\n",
      "Processed image number 2 : images/scenes/farm.jpg, 9 predictions\n",
      "Processed image number 3 : images/scenes/pool.jpg, 1 predictions\n",
      "Processed image number 4 : images/scenes/supermarket.jpg, 0 predictions\n",
      "Processed image number 5 : images/scenes/crossing.jpg, 11 predictions\n",
      "Processed image number 6 : images/scenes/porsche.jpg, 1 predictions\n",
      "Processed image number 7 : images/scenes/people_car.jpg, 5 predictions\n",
      "Processed image number 8 : images/scenes/test-image3.jpg, 3 predictions\n",
      "Processed image number 9 : images/faces/me.jpg, 1 predictions\n",
      "Processed image number 10 : images/faces/idris.jpg, 1 predictions\n",
      "Processed image number 11 : images/faces/idris_2.jpg, 2 predictions\n",
      "Processed image number 12 : images/faces/family.jpg, 3 predictions\n",
      "Processed image number 13 : images/faces/face.jpg, 4 predictions\n",
      "Processed image number 14 : images/faces/couple.jpg, 3 predictions\n",
      "Processing completes in 6.495145082473755, total of 48 predictions\n",
      "CPU times: user 74.6 ms, sys: 26.2 ms, total: 101 ms\n",
      "Wall time: 6.5 s\n"
     ]
    }
   ],
   "source": [
    "%%time\n",
    "total_predictions = 0 # keep predictions\n",
    "start_time = time.time()\n",
    "\n",
    "for i, img in enumerate(images):\n",
    "\n",
    "    try:\n",
    "        with open(img, 'rb') as image_bytes:\n",
    "            dsobject.detect(image_bytes)\n",
    "            predictions = dsobject.predictions\n",
    "            print(f\"Processed image number {i} : {str(img)}, {len(predictions)} predictions\")\n",
    "            total_predictions = total_predictions + len(predictions)\n",
    "    except Exception as exc:\n",
    "        print(exc)\n",
    "        print(img)\n",
    "\n",
    "end_time = time.time()\n",
    "duration = end_time - start_time\n",
    "print(f\"Processing completes in {duration}, total of {total_predictions} predictions\")"
   ]
  },
  {
   "cell_type": "markdown",
   "metadata": {},
   "source": [
    "## League table\n",
    "| Platform | Speed (sec) | Predictions |\n",
    "| --- | --- | --- |\n",
    "| Jetson with jetpack-x3-beta | 6.3 | 48 |\n",
    "| Jetson with jetpack-x1-beta | 7.5 | 48 |\n",
    "| Mac Pro with deepstack:cpu-x5-beta | 7.2 | 80 |\n",
    "| Mac Pro with deepstack:cpu-x4-beta | 6.6 | 80 |\n",
    "| Mac Pro with deepstack:cpu-x3-beta | 106 | 95 |\n",
    "| Mac Pro with tflite-server (fastapi) | 2.2 | 178 |\n",
    "| Mac Pro with tflite-server (flask) | 2.1 | 176 |\n",
    "| RPi4 with tflite-server (fastapi) | 7.6 | 176 |\n",
    "| RPi4 with tflite-server (flask) | 8.9 | 159 |\n",
    "\n",
    "Why fewer predictions with flask?"
   ]
  },
  {
   "cell_type": "markdown",
   "metadata": {},
   "source": [
    "## Face detection\n",
    "On Jetson: \n",
    "\n",
    "`sudo docker run --runtime nvidia -d -e VISION-FACE=True -e VISION-DETECTION=True -p 80:5000 deepquestai/deepstack:jetpack-x3-beta`"
   ]
  },
  {
   "cell_type": "code",
   "execution_count": 11,
   "metadata": {},
   "outputs": [],
   "source": [
    "dsface = ds.DeepstackFace(IP_ADDRESS, PORT, API_KEY)"
   ]
  },
  {
   "cell_type": "code",
   "execution_count": 29,
   "metadata": {},
   "outputs": [
    {
     "name": "stdout",
     "output_type": "stream",
     "text": [
      "----------------------\n",
      "images/scenes/dog.jpg : 0.01 MB\n",
      "Processed image number 0 : images/scenes/dog.jpg, 1 predictions\n",
      "----------------------\n",
      "images/scenes/street.jpg : 0.62 MB\n",
      "Connection error: ('Connection aborted.', BrokenPipeError(32, 'Broken pipe'))\n",
      "----------------------\n",
      "images/scenes/farm.jpg : 0.3 MB\n",
      "Processed image number 2 : images/scenes/farm.jpg, 0 predictions\n",
      "----------------------\n",
      "images/scenes/pool.jpg : 0.28 MB\n",
      "Processed image number 3 : images/scenes/pool.jpg, 0 predictions\n",
      "----------------------\n",
      "images/scenes/supermarket.jpg : 1.8 MB\n",
      "Connection error: ('Connection aborted.', BrokenPipeError(32, 'Broken pipe'))\n",
      "----------------------\n",
      "images/scenes/crossing.jpg : 0.11 MB\n",
      "Processed image number 5 : images/scenes/crossing.jpg, 0 predictions\n",
      "----------------------\n",
      "images/scenes/porsche.jpg : 0.12 MB\n",
      "Processed image number 6 : images/scenes/porsche.jpg, 0 predictions\n",
      "----------------------\n",
      "images/scenes/people_car.jpg : 0.11 MB\n",
      "Processed image number 7 : images/scenes/people_car.jpg, 0 predictions\n",
      "----------------------\n",
      "images/scenes/test-image3.jpg : 0.21 MB\n",
      "Processed image number 8 : images/scenes/test-image3.jpg, 0 predictions\n",
      "----------------------\n",
      "images/faces/me.jpg : 0.81 MB\n",
      "Connection error: ('Connection aborted.', BrokenPipeError(32, 'Broken pipe'))\n",
      "----------------------\n",
      "images/faces/idris.jpg : 0.21 MB\n",
      "Processed image number 10 : images/faces/idris.jpg, 1 predictions\n",
      "----------------------\n",
      "images/faces/idris_2.jpg : 0.06 MB\n",
      "Processed image number 11 : images/faces/idris_2.jpg, 1 predictions\n",
      "----------------------\n",
      "images/faces/family.jpg : 0.13 MB\n",
      "Processed image number 12 : images/faces/family.jpg, 4 predictions\n",
      "----------------------\n",
      "images/faces/face.jpg : 0.15 MB\n",
      "Processed image number 13 : images/faces/face.jpg, 4 predictions\n",
      "----------------------\n",
      "images/faces/couple.jpg : 1.35 MB\n",
      "Connection error: ('Connection aborted.', BrokenPipeError(32, 'Broken pipe'))\n",
      "Processing completes in 6.444132089614868, total of 11 faces\n",
      "CPU times: user 110 ms, sys: 34.3 ms, total: 144 ms\n",
      "Wall time: 6.44 s\n"
     ]
    }
   ],
   "source": [
    "%%time\n",
    "total_faces = 0 # keep predictions\n",
    "start_time = time.time()\n",
    "\n",
    "for i, img in enumerate(images):\n",
    "    print('----------------------')\n",
    "    try:\n",
    "        img_size = os.path.getsize(img)\n",
    "        img_size = round(img_size/1e6, 2) \n",
    "        print(f\"{img} : {img_size} MB\")\n",
    "        with open(img, 'rb') as image_bytes:\n",
    "            dsface.detect(image_bytes)\n",
    "            predictions = dsface.predictions\n",
    "            print(f\"Processed image number {i} : {str(img)}, {len(predictions)} predictions\")\n",
    "            total_faces = total_faces + len(predictions)\n",
    "    except Exception as exc:\n",
    "        print(exc)\n",
    "        \n",
    "\n",
    "end_time = time.time()\n",
    "duration = end_time - start_time\n",
    "print(f\"Processing completes in {duration}, total of {total_faces} faces\")"
   ]
  },
  {
   "cell_type": "code",
   "execution_count": null,
   "metadata": {},
   "outputs": [],
   "source": []
  }
 ],
 "metadata": {
  "kernelspec": {
   "display_name": "Python 3",
   "language": "python",
   "name": "python3"
  },
  "language_info": {
   "codemirror_mode": {
    "name": "ipython",
    "version": 3
   },
   "file_extension": ".py",
   "mimetype": "text/x-python",
   "name": "python",
   "nbconvert_exporter": "python",
   "pygments_lexer": "ipython3",
   "version": "3.7.0"
  }
 },
 "nbformat": 4,
 "nbformat_minor": 4
}
