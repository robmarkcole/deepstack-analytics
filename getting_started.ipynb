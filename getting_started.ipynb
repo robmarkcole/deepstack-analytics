{
 "cells": [
  {
   "cell_type": "code",
   "execution_count": 5,
   "metadata": {},
   "outputs": [
    {
     "name": "stdout",
     "output_type": "stream",
     "text": [
      "dog.jpg\n",
      "street.jpg\n",
      "farm.jpg\n",
      "pool.jpg\n",
      "supermarket.jpg\n",
      "crossing.jpg\n",
      "porsche.jpg\n",
      "people_car.jpg\n",
      "test-image3.jpg\n",
      "me.jpg\n",
      "idris.jpg\n",
      "idris_2.jpg\n",
      "family.jpg\n",
      "face.jpg\n",
      "couple.jpg\n"
     ]
    }
   ],
   "source": [
    "from pathlib import Path\n",
    "\n",
    "for path in Path('images').rglob('*.jpg'):\n",
    "    print(path.name)"
   ]
  },
  {
   "cell_type": "code",
   "execution_count": null,
   "metadata": {},
   "outputs": [],
   "source": []
  }
 ],
 "metadata": {
  "kernelspec": {
   "display_name": "Python 3",
   "language": "python",
   "name": "python3"
  },
  "language_info": {
   "codemirror_mode": {
    "name": "ipython",
    "version": 3
   },
   "file_extension": ".py",
   "mimetype": "text/x-python",
   "name": "python",
   "nbconvert_exporter": "python",
   "pygments_lexer": "ipython3",
   "version": "3.7.0"
  }
 },
 "nbformat": 4,
 "nbformat_minor": 4
}
