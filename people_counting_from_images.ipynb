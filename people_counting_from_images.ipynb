{
 "cells": [
  {
   "cell_type": "markdown",
   "metadata": {},
   "source": [
    "## people_counting_from_images\n",
    "\n",
    "In this notebook we will batch process a directory of images, printing the number of people counted in each image"
   ]
  },
  {
   "cell_type": "code",
   "execution_count": 24,
   "metadata": {},
   "outputs": [],
   "source": [
    "from pathlib import Path\n",
    "import json\n",
    "import pandas as pd"
   ]
  },
  {
   "cell_type": "code",
   "execution_count": 2,
   "metadata": {},
   "outputs": [],
   "source": [
    "images = list(Path(\"images/\").rglob(\"*.jpg\"))"
   ]
  },
  {
   "cell_type": "code",
   "execution_count": 3,
   "metadata": {},
   "outputs": [
    {
     "data": {
      "text/plain": [
       "[PosixPath('images/scenes/dog.jpg'),\n",
       " PosixPath('images/scenes/street.jpg'),\n",
       " PosixPath('images/scenes/farm.jpg'),\n",
       " PosixPath('images/scenes/pool.jpg'),\n",
       " PosixPath('images/scenes/supermarket.jpg'),\n",
       " PosixPath('images/scenes/crossing.jpg'),\n",
       " PosixPath('images/scenes/porsche.jpg'),\n",
       " PosixPath('images/scenes/people_car.jpg'),\n",
       " PosixPath('images/scenes/test-image3.jpg'),\n",
       " PosixPath('images/faces/me.jpg'),\n",
       " PosixPath('images/faces/idris.jpg'),\n",
       " PosixPath('images/faces/idris_2.jpg'),\n",
       " PosixPath('images/faces/family.jpg'),\n",
       " PosixPath('images/faces/face.jpg'),\n",
       " PosixPath('images/faces/couple.jpg')]"
      ]
     },
     "execution_count": 3,
     "metadata": {},
     "output_type": "execute_result"
    }
   ],
   "source": [
    "images"
   ]
  },
  {
   "cell_type": "markdown",
   "metadata": {},
   "source": [
    "we can access the file name"
   ]
  },
  {
   "cell_type": "code",
   "execution_count": 4,
   "metadata": {},
   "outputs": [
    {
     "data": {
      "text/plain": [
       "'dog.jpg'"
      ]
     },
     "execution_count": 4,
     "metadata": {},
     "output_type": "execute_result"
    }
   ],
   "source": [
    "images[0].name"
   ]
  },
  {
   "cell_type": "markdown",
   "metadata": {},
   "source": [
    "or get the path as a string"
   ]
  },
  {
   "cell_type": "code",
   "execution_count": 11,
   "metadata": {},
   "outputs": [
    {
     "data": {
      "text/plain": [
       "'images/scenes/dog.jpg'"
      ]
     },
     "execution_count": 11,
     "metadata": {},
     "output_type": "execute_result"
    }
   ],
   "source": [
    "str(images[0])"
   ]
  },
  {
   "cell_type": "markdown",
   "metadata": {},
   "source": [
    "## Deepstack\n",
    "setup deepstack"
   ]
  },
  {
   "cell_type": "code",
   "execution_count": 5,
   "metadata": {},
   "outputs": [],
   "source": [
    "# deepstack credentials\n",
    "IP_ADDRESS = 'localhost'\n",
    "PORT = 5000\n",
    "API_KEY =  \"\" # if you have not set an api_key, just pass an empty string"
   ]
  },
  {
   "cell_type": "code",
   "execution_count": 6,
   "metadata": {},
   "outputs": [],
   "source": [
    "import deepstack.core as ds"
   ]
  },
  {
   "cell_type": "code",
   "execution_count": 7,
   "metadata": {},
   "outputs": [],
   "source": [
    "dsobject = ds.DeepstackObject(IP_ADDRESS, PORT, API_KEY)"
   ]
  },
  {
   "cell_type": "markdown",
   "metadata": {},
   "source": [
    "Loop over images getting all predictions"
   ]
  },
  {
   "cell_type": "code",
   "execution_count": 13,
   "metadata": {},
   "outputs": [
    {
     "name": "stdout",
     "output_type": "stream",
     "text": [
      "Processing image number 0 : images/scenes/dog.jpg\n",
      "Processing image number 1 : images/scenes/street.jpg\n",
      "Processing image number 2 : images/scenes/farm.jpg\n",
      "Processing image number 3 : images/scenes/pool.jpg\n",
      "Processing image number 4 : images/scenes/supermarket.jpg\n",
      "Processing image number 5 : images/scenes/crossing.jpg\n",
      "Processing image number 6 : images/scenes/porsche.jpg\n",
      "Processing image number 7 : images/scenes/people_car.jpg\n",
      "Processing image number 8 : images/scenes/test-image3.jpg\n",
      "Processing image number 9 : images/faces/me.jpg\n",
      "Processing image number 10 : images/faces/idris.jpg\n",
      "Processing image number 11 : images/faces/idris_2.jpg\n",
      "Processing image number 12 : images/faces/family.jpg\n",
      "Processing image number 13 : images/faces/face.jpg\n",
      "Processing image number 14 : images/faces/couple.jpg\n",
      "CPU times: user 59.9 ms, sys: 20.7 ms, total: 80.6 ms\n",
      "Wall time: 49.2 s\n"
     ]
    }
   ],
   "source": [
    "%%time\n",
    "results = [] # keep predictions\n",
    "\n",
    "for i, img in enumerate(images):\n",
    "    print(f\"Processing image number {i} : {str(img)}\")\n",
    "    try:\n",
    "        with open(img, 'rb') as image_bytes:\n",
    "            dsobject.detect(image_bytes)\n",
    "            predictions = dsobject.predictions\n",
    "            \n",
    "            results.append({\n",
    "                'file': str(img),\n",
    "                'predictions': predictions\n",
    "            })\n",
    "    except Exception as exc:\n",
    "        print(exc)"
   ]
  },
  {
   "cell_type": "markdown",
   "metadata": {},
   "source": [
    "The results are in a standardised format"
   ]
  },
  {
   "cell_type": "code",
   "execution_count": 18,
   "metadata": {},
   "outputs": [
    {
     "data": {
      "text/plain": [
       "{'file': 'images/scenes/street.jpg',\n",
       " 'predictions': [{'confidence': 0.99951047,\n",
       "   'label': 'car',\n",
       "   'y_min': 608,\n",
       "   'x_min': 1068,\n",
       "   'y_max': 946,\n",
       "   'x_max': 1785},\n",
       "  {'confidence': 0.99831986,\n",
       "   'label': 'car',\n",
       "   'y_min': 405,\n",
       "   'x_min': 846,\n",
       "   'y_max': 586,\n",
       "   'x_max': 1322},\n",
       "  {'confidence': 0.941314,\n",
       "   'label': 'car',\n",
       "   'y_min': 559,\n",
       "   'x_min': 318,\n",
       "   'y_max': 775,\n",
       "   'x_max': 815},\n",
       "  {'confidence': 0.75337636,\n",
       "   'label': 'car',\n",
       "   'y_min': 179,\n",
       "   'x_min': 642,\n",
       "   'y_max': 298,\n",
       "   'x_max': 806},\n",
       "  {'confidence': 0.58366394,\n",
       "   'label': 'car',\n",
       "   'y_min': 782,\n",
       "   'x_min': 2086,\n",
       "   'y_max': 1020,\n",
       "   'x_max': 2245},\n",
       "  {'confidence': 0.94268125,\n",
       "   'label': 'truck',\n",
       "   'y_min': 120,\n",
       "   'x_min': 889,\n",
       "   'y_max': 228,\n",
       "   'x_max': 1091},\n",
       "  {'confidence': 0.5385787,\n",
       "   'label': 'truck',\n",
       "   'y_min': 166,\n",
       "   'x_min': 641,\n",
       "   'y_max': 297,\n",
       "   'x_max': 846}]}"
      ]
     },
     "execution_count": 18,
     "metadata": {},
     "output_type": "execute_result"
    }
   ],
   "source": [
    "results[1]"
   ]
  },
  {
   "cell_type": "markdown",
   "metadata": {},
   "source": [
    "We can write to json file"
   ]
  },
  {
   "cell_type": "code",
   "execution_count": 17,
   "metadata": {},
   "outputs": [],
   "source": [
    "with open('outputs/results.json', 'w') as fp:\n",
    "    json.dump(results, fp)"
   ]
  },
  {
   "cell_type": "markdown",
   "metadata": {},
   "source": [
    "Lets get the number of people in each image using a helper from deepstack-python"
   ]
  },
  {
   "cell_type": "code",
   "execution_count": 21,
   "metadata": {},
   "outputs": [],
   "source": [
    "people = {}\n",
    "for pred in results:\n",
    "    people[Path(pred['file']).name] = len(ds.get_object_confidences(pred['predictions'], 'person'))"
   ]
  },
  {
   "cell_type": "code",
   "execution_count": 22,
   "metadata": {},
   "outputs": [
    {
     "data": {
      "text/plain": [
       "{'dog.jpg': 0,\n",
       " 'street.jpg': 0,\n",
       " 'farm.jpg': 0,\n",
       " 'pool.jpg': 18,\n",
       " 'supermarket.jpg': 0,\n",
       " 'crossing.jpg': 20,\n",
       " 'porsche.jpg': 0,\n",
       " 'people_car.jpg': 2,\n",
       " 'test-image3.jpg': 2,\n",
       " 'me.jpg': 1,\n",
       " 'idris.jpg': 1,\n",
       " 'idris_2.jpg': 1,\n",
       " 'family.jpg': 3,\n",
       " 'face.jpg': 4,\n",
       " 'couple.jpg': 2}"
      ]
     },
     "execution_count": 22,
     "metadata": {},
     "output_type": "execute_result"
    }
   ],
   "source": [
    "people"
   ]
  },
  {
   "cell_type": "markdown",
   "metadata": {},
   "source": [
    "Visualise using pandas"
   ]
  },
  {
   "cell_type": "code",
   "execution_count": 34,
   "metadata": {},
   "outputs": [
    {
     "data": {
      "image/png": "[encoded data removed]",
      "text/plain": [
       "<Figure size 720x360 with 1 Axes>"
      ]
     },
     "metadata": {
      "needs_background": "light"
     },
     "output_type": "display_data"
    }
   ],
   "source": [
    "pd.Series(people).plot.barh(figsize=(10,5)).set_xlabel('Person count');"
   ]
  },
  {
   "cell_type": "code",
   "execution_count": null,
   "metadata": {},
   "outputs": [],
   "source": []
  }
 ],
 "metadata": {
  "kernelspec": {
   "display_name": "Python 3",
   "language": "python",
   "name": "python3"
  },
  "language_info": {
   "codemirror_mode": {
    "name": "ipython",
    "version": 3
   },
   "file_extension": ".py",
   "mimetype": "text/x-python",
   "name": "python",
   "nbconvert_exporter": "python",
   "pygments_lexer": "ipython3",
   "version": "3.7.0"
  }
 },
 "nbformat": 4,
 "nbformat_minor": 4
}
