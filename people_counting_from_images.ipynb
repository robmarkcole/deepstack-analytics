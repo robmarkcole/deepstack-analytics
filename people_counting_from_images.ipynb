{
 "cells": [
  {
   "cell_type": "markdown",
   "metadata": {},
   "source": [
    "## people_counting_from_images\n",
    "\n",
    "In this notebook we will batch process a directory of images, printing the number of people counted in each image"
   ]
  },
  {
   "cell_type": "code",
   "execution_count": 1,
   "metadata": {},
   "outputs": [],
   "source": [
    "from pathlib import Path\n",
    "import json\n",
    "import pandas as pd"
   ]
  },
  {
   "cell_type": "code",
   "execution_count": 2,
   "metadata": {},
   "outputs": [],
   "source": [
    "images = list(Path(\"images/\").rglob(\"*.jpg\"))"
   ]
  },
  {
   "cell_type": "code",
   "execution_count": 3,
   "metadata": {},
   "outputs": [
    {
     "data": {
      "text/plain": [
       "[PosixPath('images/scenes/dog.jpg'),\n",
       " PosixPath('images/scenes/street.jpg'),\n",
       " PosixPath('images/scenes/farm.jpg'),\n",
       " PosixPath('images/scenes/pool.jpg'),\n",
       " PosixPath('images/scenes/supermarket.jpg'),\n",
       " PosixPath('images/scenes/crossing.jpg'),\n",
       " PosixPath('images/scenes/porsche.jpg'),\n",
       " PosixPath('images/scenes/people_car.jpg'),\n",
       " PosixPath('images/scenes/test-image3.jpg'),\n",
       " PosixPath('images/scenes/.ipynb_checkpoints/supermarket-checkpoint.jpg'),\n",
       " PosixPath('images/faces/me.jpg'),\n",
       " PosixPath('images/faces/idris.jpg'),\n",
       " PosixPath('images/faces/idris_2.jpg'),\n",
       " PosixPath('images/faces/family.jpg'),\n",
       " PosixPath('images/faces/face.jpg'),\n",
       " PosixPath('images/faces/couple.jpg'),\n",
       " PosixPath('images/faces/.ipynb_checkpoints/me-checkpoint.jpg')]"
      ]
     },
     "execution_count": 3,
     "metadata": {},
     "output_type": "execute_result"
    }
   ],
   "source": [
    "images"
   ]
  },
  {
   "cell_type": "markdown",
   "metadata": {},
   "source": [
    "we can access the file name"
   ]
  },
  {
   "cell_type": "code",
   "execution_count": 4,
   "metadata": {},
   "outputs": [
    {
     "data": {
      "text/plain": [
       "'dog.jpg'"
      ]
     },
     "execution_count": 4,
     "metadata": {},
     "output_type": "execute_result"
    }
   ],
   "source": [
    "images[0].name"
   ]
  },
  {
   "cell_type": "markdown",
   "metadata": {},
   "source": [
    "or get the path as a string"
   ]
  },
  {
   "cell_type": "code",
   "execution_count": 5,
   "metadata": {},
   "outputs": [
    {
     "data": {
      "text/plain": [
       "'images/scenes/dog.jpg'"
      ]
     },
     "execution_count": 5,
     "metadata": {},
     "output_type": "execute_result"
    }
   ],
   "source": [
    "str(images[0])"
   ]
  },
  {
   "cell_type": "markdown",
   "metadata": {},
   "source": [
    "## Deepstack\n",
    "setup deepstack"
   ]
  },
  {
   "cell_type": "code",
   "execution_count": 6,
   "metadata": {},
   "outputs": [],
   "source": [
    "# deepstack credentials\n",
    "IP_ADDRESS = 'localhost'\n",
    "PORT = 80\n",
    "API_KEY =  \"\" # if you have not set an api_key, just pass an empty string"
   ]
  },
  {
   "cell_type": "code",
   "execution_count": 7,
   "metadata": {},
   "outputs": [],
   "source": [
    "import deepstack.core as ds"
   ]
  },
  {
   "cell_type": "code",
   "execution_count": 8,
   "metadata": {},
   "outputs": [],
   "source": [
    "dsobject = ds.DeepstackObject(IP_ADDRESS, PORT, API_KEY)"
   ]
  },
  {
   "cell_type": "markdown",
   "metadata": {},
   "source": [
    "Loop over images getting all predictions"
   ]
  },
  {
   "cell_type": "code",
   "execution_count": 9,
   "metadata": {},
   "outputs": [
    {
     "name": "stdout",
     "output_type": "stream",
     "text": [
      "Processing image number 0 : images/scenes/dog.jpg\n",
      "Processing image number 1 : images/scenes/street.jpg\n",
      "Processing image number 2 : images/scenes/farm.jpg\n",
      "Processing image number 3 : images/scenes/pool.jpg\n",
      "Processing image number 4 : images/scenes/supermarket.jpg\n",
      "Processing image number 5 : images/scenes/crossing.jpg\n",
      "Processing image number 6 : images/scenes/porsche.jpg\n",
      "Processing image number 7 : images/scenes/people_car.jpg\n",
      "Processing image number 8 : images/scenes/test-image3.jpg\n",
      "Processing image number 9 : images/scenes/.ipynb_checkpoints/supermarket-checkpoint.jpg\n",
      "Processing image number 10 : images/faces/me.jpg\n",
      "Processing image number 11 : images/faces/idris.jpg\n",
      "Processing image number 12 : images/faces/idris_2.jpg\n",
      "Processing image number 13 : images/faces/family.jpg\n",
      "Processing image number 14 : images/faces/face.jpg\n",
      "Processing image number 15 : images/faces/couple.jpg\n",
      "Processing image number 16 : images/faces/.ipynb_checkpoints/me-checkpoint.jpg\n",
      "CPU times: user 86.6 ms, sys: 31.5 ms, total: 118 ms\n",
      "Wall time: 9.4 s\n"
     ]
    }
   ],
   "source": [
    "%%time\n",
    "results = [] # keep predictions\n",
    "\n",
    "for i, img in enumerate(images):\n",
    "    print(f\"Processing image number {i} : {str(img)}\")\n",
    "    try:\n",
    "        with open(img, 'rb') as image_bytes:\n",
    "            predictions = dsobject.detect(image_bytes)\n",
    "            \n",
    "            results.append({\n",
    "                'file': str(img),\n",
    "                'predictions': predictions\n",
    "            })\n",
    "    except Exception as exc:\n",
    "        print(exc)"
   ]
  },
  {
   "cell_type": "markdown",
   "metadata": {},
   "source": [
    "The results are in a standardised format"
   ]
  },
  {
   "cell_type": "code",
   "execution_count": 10,
   "metadata": {},
   "outputs": [
    {
     "data": {
      "text/plain": [
       "{'file': 'images/scenes/street.jpg',\n",
       " 'predictions': [{'confidence': 0.45400372,\n",
       "   'label': 'person',\n",
       "   'y_min': 537,\n",
       "   'x_min': 162,\n",
       "   'y_max': 790,\n",
       "   'x_max': 257},\n",
       "  {'confidence': 0.48486602,\n",
       "   'label': 'car',\n",
       "   'y_min': 168,\n",
       "   'x_min': 635,\n",
       "   'y_max': 291,\n",
       "   'x_max': 848},\n",
       "  {'confidence': 0.54467934,\n",
       "   'label': 'truck',\n",
       "   'y_min': 116,\n",
       "   'x_min': 888,\n",
       "   'y_max': 230,\n",
       "   'x_max': 1090},\n",
       "  {'confidence': 0.706636,\n",
       "   'label': 'car',\n",
       "   'y_min': 780,\n",
       "   'x_min': 2106,\n",
       "   'y_max': 1004,\n",
       "   'x_max': 2238},\n",
       "  {'confidence': 0.7713211,\n",
       "   'label': 'car',\n",
       "   'y_min': 550,\n",
       "   'x_min': 300,\n",
       "   'y_max': 774,\n",
       "   'x_max': 818},\n",
       "  {'confidence': 0.8798733,\n",
       "   'label': 'car',\n",
       "   'y_min': 402,\n",
       "   'x_min': 854,\n",
       "   'y_max': 586,\n",
       "   'x_max': 1289},\n",
       "  {'confidence': 0.91239434,\n",
       "   'label': 'car',\n",
       "   'y_min': 586,\n",
       "   'x_min': 1063,\n",
       "   'y_max': 957,\n",
       "   'x_max': 1784}]}"
      ]
     },
     "execution_count": 10,
     "metadata": {},
     "output_type": "execute_result"
    }
   ],
   "source": [
    "results[1]"
   ]
  },
  {
   "cell_type": "markdown",
   "metadata": {},
   "source": [
    "We can write to json file"
   ]
  },
  {
   "cell_type": "code",
   "execution_count": 11,
   "metadata": {},
   "outputs": [],
   "source": [
    "with open('outputs/results.json', 'w') as fp:\n",
    "    json.dump(results, fp)"
   ]
  },
  {
   "cell_type": "markdown",
   "metadata": {},
   "source": [
    "Lets get the number of people in each image using a helper from deepstack-python"
   ]
  },
  {
   "cell_type": "code",
   "execution_count": 12,
   "metadata": {},
   "outputs": [],
   "source": [
    "people = {}\n",
    "for pred in results:\n",
    "    people[Path(pred['file']).name] = len(ds.get_object_confidences(pred['predictions'], 'person'))"
   ]
  },
  {
   "cell_type": "code",
   "execution_count": 13,
   "metadata": {},
   "outputs": [
    {
     "data": {
      "text/plain": [
       "{'dog.jpg': 0,\n",
       " 'street.jpg': 1,\n",
       " 'farm.jpg': 0,\n",
       " 'pool.jpg': 3,\n",
       " 'supermarket.jpg': 0,\n",
       " 'crossing.jpg': 8,\n",
       " 'porsche.jpg': 0,\n",
       " 'people_car.jpg': 2,\n",
       " 'test-image3.jpg': 2,\n",
       " 'supermarket-checkpoint.jpg': 0,\n",
       " 'me.jpg': 1,\n",
       " 'idris.jpg': 1,\n",
       " 'idris_2.jpg': 1,\n",
       " 'family.jpg': 2,\n",
       " 'face.jpg': 4,\n",
       " 'couple.jpg': 2,\n",
       " 'me-checkpoint.jpg': 1}"
      ]
     },
     "execution_count": 13,
     "metadata": {},
     "output_type": "execute_result"
    }
   ],
   "source": [
    "people"
   ]
  },
  {
   "cell_type": "markdown",
   "metadata": {},
   "source": [
    "Visualise using pandas"
   ]
  },
  {
   "cell_type": "code",
   "execution_count": 14,
   "metadata": {},
   "outputs": [
    {
     "data": {
      "image/png": "[encoded data removed]",
      "text/plain": [
       "<Figure size 720x360 with 1 Axes>"
      ]
     },
     "metadata": {
      "needs_background": "light"
     },
     "output_type": "display_data"
    }
   ],
   "source": [
    "pd.Series(people).plot.barh(figsize=(10,5)).set_xlabel('Person count');"
   ]
  },
  {
   "cell_type": "code",
   "execution_count": null,
   "metadata": {},
   "outputs": [],
   "source": []
  }
 ],
 "metadata": {
  "kernelspec": {
   "display_name": "Python 3",
   "language": "python",
   "name": "python3"
  },
  "language_info": {
   "codemirror_mode": {
    "name": "ipython",
    "version": 3
   },
   "file_extension": ".py",
   "mimetype": "text/x-python",
   "name": "python",
   "nbconvert_exporter": "python",
   "pygments_lexer": "ipython3",
   "version": "3.7.0"
  }
 },
 "nbformat": 4,
 "nbformat_minor": 4
}
